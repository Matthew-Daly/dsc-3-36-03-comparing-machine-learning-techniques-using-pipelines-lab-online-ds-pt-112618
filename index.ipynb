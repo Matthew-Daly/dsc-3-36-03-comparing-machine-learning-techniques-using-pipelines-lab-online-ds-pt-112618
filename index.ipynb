{
 "cells": [
  {
   "cell_type": "markdown",
   "metadata": {},
   "source": [
    "# Comparing Machine Learning Techniques Using Pipelines - Lab"
   ]
  },
  {
   "cell_type": "markdown",
   "metadata": {},
   "source": [
    "## Introduction"
   ]
  },
  {
   "cell_type": "markdown",
   "metadata": {},
   "source": [
    "In this lab, you'lll use a Dataset created by Otto group, which was also used in a [Kaggle competition](https://www.kaggle.com/c/otto-group-product-classification-challenge/data).\n",
    "\n",
    "The description of the data set is as follows:\n",
    "\n",
    "The Otto Group is one of the world’s biggest e-commerce companies, with subsidiaries in more than 20 countries, including Crate & Barrel (USA), Otto.de (Germany) and 3 Suisses (France). They are selling millions of products worldwide every day, with several thousand products being added to our product line.\n",
    "\n",
    "A consistent analysis of the performance of our products is crucial. However, due to their global infrastructure, many identical products get classified differently. Therefore, the quality of our product analysis depends heavily on the ability to accurately cluster similar products. The better the classification, the more insights Otto Group can generate about their product range.\n",
    "\n",
    "In this lab, you'll use a data set containing:\n",
    "- A column `id`, which is an anonymous id unique to a product\n",
    "- 93 columns `feat_1`, `feat_2`, ..., `feat_93`, which are the various features of a product\n",
    "- a column `target` - the class of a product\n"
   ]
  },
  {
   "cell_type": "markdown",
   "metadata": {},
   "source": [
    "## Objectives\n",
    "\n",
    "You will be able to:\n",
    "- Compare different classification techniques\n",
    "- Construct pipelines in scikit-learn\n",
    "- Use pipelines in combination with GridSearchCV"
   ]
  },
  {
   "cell_type": "markdown",
   "metadata": {},
   "source": [
    "## The Data Science Workflow"
   ]
  },
  {
   "cell_type": "markdown",
   "metadata": {},
   "source": [
    "You will be following the data science workflow:\n",
    "\n",
    "1. Initial data inspection, exploratory data analysis, and cleaning\n",
    "2. Feature engineering and selection\n",
    "3. create a baseline model\n",
    "4. create a machine learning pipeline and compare results with the baseline model\n",
    "5. Interpret the model and draw conclusions"
   ]
  },
  {
   "cell_type": "markdown",
   "metadata": {},
   "source": [
    "##  Initial data inspection, exploratory data analysis, and cleaning"
   ]
  },
  {
   "cell_type": "markdown",
   "metadata": {},
   "source": [
    "The data is stored in \"otto_group.csv\".\n",
    "\n",
    "Things to do here:\n",
    "- Check for NAs\n",
    "- Check the distributions\n",
    "- Check how many inputs there are\n",
    "- ..."
   ]
  },
  {
   "cell_type": "code",
   "execution_count": 1,
   "metadata": {},
   "outputs": [
    {
     "data": {
      "text/html": [
       "<div>\n",
       "<style scoped>\n",
       "    .dataframe tbody tr th:only-of-type {\n",
       "        vertical-align: middle;\n",
       "    }\n",
       "\n",
       "    .dataframe tbody tr th {\n",
       "        vertical-align: top;\n",
       "    }\n",
       "\n",
       "    .dataframe thead th {\n",
       "        text-align: right;\n",
       "    }\n",
       "</style>\n",
       "<table border=\"1\" class=\"dataframe\">\n",
       "  <thead>\n",
       "    <tr style=\"text-align: right;\">\n",
       "      <th></th>\n",
       "      <th>id</th>\n",
       "      <th>feat_1</th>\n",
       "      <th>feat_2</th>\n",
       "      <th>feat_3</th>\n",
       "      <th>feat_4</th>\n",
       "      <th>feat_5</th>\n",
       "      <th>feat_6</th>\n",
       "      <th>feat_7</th>\n",
       "      <th>feat_8</th>\n",
       "      <th>feat_9</th>\n",
       "      <th>...</th>\n",
       "      <th>feat_85</th>\n",
       "      <th>feat_86</th>\n",
       "      <th>feat_87</th>\n",
       "      <th>feat_88</th>\n",
       "      <th>feat_89</th>\n",
       "      <th>feat_90</th>\n",
       "      <th>feat_91</th>\n",
       "      <th>feat_92</th>\n",
       "      <th>feat_93</th>\n",
       "      <th>target</th>\n",
       "    </tr>\n",
       "  </thead>\n",
       "  <tbody>\n",
       "    <tr>\n",
       "      <th>0</th>\n",
       "      <td>1</td>\n",
       "      <td>1</td>\n",
       "      <td>0</td>\n",
       "      <td>0</td>\n",
       "      <td>0</td>\n",
       "      <td>0</td>\n",
       "      <td>0</td>\n",
       "      <td>0</td>\n",
       "      <td>0</td>\n",
       "      <td>0</td>\n",
       "      <td>...</td>\n",
       "      <td>1</td>\n",
       "      <td>0</td>\n",
       "      <td>0</td>\n",
       "      <td>0</td>\n",
       "      <td>0</td>\n",
       "      <td>0</td>\n",
       "      <td>0</td>\n",
       "      <td>0</td>\n",
       "      <td>0</td>\n",
       "      <td>Class_1</td>\n",
       "    </tr>\n",
       "    <tr>\n",
       "      <th>1</th>\n",
       "      <td>2</td>\n",
       "      <td>0</td>\n",
       "      <td>0</td>\n",
       "      <td>0</td>\n",
       "      <td>0</td>\n",
       "      <td>0</td>\n",
       "      <td>0</td>\n",
       "      <td>0</td>\n",
       "      <td>1</td>\n",
       "      <td>0</td>\n",
       "      <td>...</td>\n",
       "      <td>0</td>\n",
       "      <td>0</td>\n",
       "      <td>0</td>\n",
       "      <td>0</td>\n",
       "      <td>0</td>\n",
       "      <td>0</td>\n",
       "      <td>0</td>\n",
       "      <td>0</td>\n",
       "      <td>0</td>\n",
       "      <td>Class_1</td>\n",
       "    </tr>\n",
       "    <tr>\n",
       "      <th>2</th>\n",
       "      <td>3</td>\n",
       "      <td>0</td>\n",
       "      <td>0</td>\n",
       "      <td>0</td>\n",
       "      <td>0</td>\n",
       "      <td>0</td>\n",
       "      <td>0</td>\n",
       "      <td>0</td>\n",
       "      <td>1</td>\n",
       "      <td>0</td>\n",
       "      <td>...</td>\n",
       "      <td>0</td>\n",
       "      <td>0</td>\n",
       "      <td>0</td>\n",
       "      <td>0</td>\n",
       "      <td>0</td>\n",
       "      <td>0</td>\n",
       "      <td>0</td>\n",
       "      <td>0</td>\n",
       "      <td>0</td>\n",
       "      <td>Class_1</td>\n",
       "    </tr>\n",
       "    <tr>\n",
       "      <th>3</th>\n",
       "      <td>4</td>\n",
       "      <td>1</td>\n",
       "      <td>0</td>\n",
       "      <td>0</td>\n",
       "      <td>1</td>\n",
       "      <td>6</td>\n",
       "      <td>1</td>\n",
       "      <td>5</td>\n",
       "      <td>0</td>\n",
       "      <td>0</td>\n",
       "      <td>...</td>\n",
       "      <td>0</td>\n",
       "      <td>1</td>\n",
       "      <td>2</td>\n",
       "      <td>0</td>\n",
       "      <td>0</td>\n",
       "      <td>0</td>\n",
       "      <td>0</td>\n",
       "      <td>0</td>\n",
       "      <td>0</td>\n",
       "      <td>Class_1</td>\n",
       "    </tr>\n",
       "    <tr>\n",
       "      <th>4</th>\n",
       "      <td>5</td>\n",
       "      <td>0</td>\n",
       "      <td>0</td>\n",
       "      <td>0</td>\n",
       "      <td>0</td>\n",
       "      <td>0</td>\n",
       "      <td>0</td>\n",
       "      <td>0</td>\n",
       "      <td>0</td>\n",
       "      <td>0</td>\n",
       "      <td>...</td>\n",
       "      <td>1</td>\n",
       "      <td>0</td>\n",
       "      <td>0</td>\n",
       "      <td>0</td>\n",
       "      <td>0</td>\n",
       "      <td>1</td>\n",
       "      <td>0</td>\n",
       "      <td>0</td>\n",
       "      <td>0</td>\n",
       "      <td>Class_1</td>\n",
       "    </tr>\n",
       "  </tbody>\n",
       "</table>\n",
       "<p>5 rows × 95 columns</p>\n",
       "</div>"
      ],
      "text/plain": [
       "   id  feat_1  feat_2  feat_3  feat_4  feat_5  feat_6  feat_7  feat_8  feat_9  \\\n",
       "0   1       1       0       0       0       0       0       0       0       0   \n",
       "1   2       0       0       0       0       0       0       0       1       0   \n",
       "2   3       0       0       0       0       0       0       0       1       0   \n",
       "3   4       1       0       0       1       6       1       5       0       0   \n",
       "4   5       0       0       0       0       0       0       0       0       0   \n",
       "\n",
       "    ...     feat_85  feat_86  feat_87  feat_88  feat_89  feat_90  feat_91  \\\n",
       "0   ...           1        0        0        0        0        0        0   \n",
       "1   ...           0        0        0        0        0        0        0   \n",
       "2   ...           0        0        0        0        0        0        0   \n",
       "3   ...           0        1        2        0        0        0        0   \n",
       "4   ...           1        0        0        0        0        1        0   \n",
       "\n",
       "   feat_92  feat_93   target  \n",
       "0        0        0  Class_1  \n",
       "1        0        0  Class_1  \n",
       "2        0        0  Class_1  \n",
       "3        0        0  Class_1  \n",
       "4        0        0  Class_1  \n",
       "\n",
       "[5 rows x 95 columns]"
      ]
     },
     "execution_count": 1,
     "metadata": {},
     "output_type": "execute_result"
    }
   ],
   "source": [
    "# Your code here\n",
    "import pandas as pd\n",
    "df = pd.read_csv('otto_group.csv')\n",
    "df.head()"
   ]
  },
  {
   "cell_type": "code",
   "execution_count": 2,
   "metadata": {},
   "outputs": [
    {
     "data": {
      "text/plain": [
       "id         0\n",
       "feat_1     0\n",
       "feat_2     0\n",
       "feat_3     0\n",
       "feat_4     0\n",
       "feat_5     0\n",
       "feat_6     0\n",
       "feat_7     0\n",
       "feat_8     0\n",
       "feat_9     0\n",
       "feat_10    0\n",
       "feat_11    0\n",
       "feat_12    0\n",
       "feat_13    0\n",
       "feat_14    0\n",
       "feat_15    0\n",
       "feat_16    0\n",
       "feat_17    0\n",
       "feat_18    0\n",
       "feat_19    0\n",
       "feat_20    0\n",
       "feat_21    0\n",
       "feat_22    0\n",
       "feat_23    0\n",
       "feat_24    0\n",
       "feat_25    0\n",
       "feat_26    0\n",
       "feat_27    0\n",
       "feat_28    0\n",
       "feat_29    0\n",
       "          ..\n",
       "feat_65    0\n",
       "feat_66    0\n",
       "feat_67    0\n",
       "feat_68    0\n",
       "feat_69    0\n",
       "feat_70    0\n",
       "feat_71    0\n",
       "feat_72    0\n",
       "feat_73    0\n",
       "feat_74    0\n",
       "feat_75    0\n",
       "feat_76    0\n",
       "feat_77    0\n",
       "feat_78    0\n",
       "feat_79    0\n",
       "feat_80    0\n",
       "feat_81    0\n",
       "feat_82    0\n",
       "feat_83    0\n",
       "feat_84    0\n",
       "feat_85    0\n",
       "feat_86    0\n",
       "feat_87    0\n",
       "feat_88    0\n",
       "feat_89    0\n",
       "feat_90    0\n",
       "feat_91    0\n",
       "feat_92    0\n",
       "feat_93    0\n",
       "target     0\n",
       "Length: 95, dtype: int64"
      ]
     },
     "execution_count": 2,
     "metadata": {},
     "output_type": "execute_result"
    }
   ],
   "source": [
    "# Your code here\n",
    "df.isna().sum()"
   ]
  },
  {
   "cell_type": "code",
   "execution_count": 3,
   "metadata": {},
   "outputs": [
    {
     "name": "stdout",
     "output_type": "stream",
     "text": [
      "<class 'pandas.core.frame.DataFrame'>\n",
      "RangeIndex: 61878 entries, 0 to 61877\n",
      "Data columns (total 95 columns):\n",
      "id         61878 non-null int64\n",
      "feat_1     61878 non-null int64\n",
      "feat_2     61878 non-null int64\n",
      "feat_3     61878 non-null int64\n",
      "feat_4     61878 non-null int64\n",
      "feat_5     61878 non-null int64\n",
      "feat_6     61878 non-null int64\n",
      "feat_7     61878 non-null int64\n",
      "feat_8     61878 non-null int64\n",
      "feat_9     61878 non-null int64\n",
      "feat_10    61878 non-null int64\n",
      "feat_11    61878 non-null int64\n",
      "feat_12    61878 non-null int64\n",
      "feat_13    61878 non-null int64\n",
      "feat_14    61878 non-null int64\n",
      "feat_15    61878 non-null int64\n",
      "feat_16    61878 non-null int64\n",
      "feat_17    61878 non-null int64\n",
      "feat_18    61878 non-null int64\n",
      "feat_19    61878 non-null int64\n",
      "feat_20    61878 non-null int64\n",
      "feat_21    61878 non-null int64\n",
      "feat_22    61878 non-null int64\n",
      "feat_23    61878 non-null int64\n",
      "feat_24    61878 non-null int64\n",
      "feat_25    61878 non-null int64\n",
      "feat_26    61878 non-null int64\n",
      "feat_27    61878 non-null int64\n",
      "feat_28    61878 non-null int64\n",
      "feat_29    61878 non-null int64\n",
      "feat_30    61878 non-null int64\n",
      "feat_31    61878 non-null int64\n",
      "feat_32    61878 non-null int64\n",
      "feat_33    61878 non-null int64\n",
      "feat_34    61878 non-null int64\n",
      "feat_35    61878 non-null int64\n",
      "feat_36    61878 non-null int64\n",
      "feat_37    61878 non-null int64\n",
      "feat_38    61878 non-null int64\n",
      "feat_39    61878 non-null int64\n",
      "feat_40    61878 non-null int64\n",
      "feat_41    61878 non-null int64\n",
      "feat_42    61878 non-null int64\n",
      "feat_43    61878 non-null int64\n",
      "feat_44    61878 non-null int64\n",
      "feat_45    61878 non-null int64\n",
      "feat_46    61878 non-null int64\n",
      "feat_47    61878 non-null int64\n",
      "feat_48    61878 non-null int64\n",
      "feat_49    61878 non-null int64\n",
      "feat_50    61878 non-null int64\n",
      "feat_51    61878 non-null int64\n",
      "feat_52    61878 non-null int64\n",
      "feat_53    61878 non-null int64\n",
      "feat_54    61878 non-null int64\n",
      "feat_55    61878 non-null int64\n",
      "feat_56    61878 non-null int64\n",
      "feat_57    61878 non-null int64\n",
      "feat_58    61878 non-null int64\n",
      "feat_59    61878 non-null int64\n",
      "feat_60    61878 non-null int64\n",
      "feat_61    61878 non-null int64\n",
      "feat_62    61878 non-null int64\n",
      "feat_63    61878 non-null int64\n",
      "feat_64    61878 non-null int64\n",
      "feat_65    61878 non-null int64\n",
      "feat_66    61878 non-null int64\n",
      "feat_67    61878 non-null int64\n",
      "feat_68    61878 non-null int64\n",
      "feat_69    61878 non-null int64\n",
      "feat_70    61878 non-null int64\n",
      "feat_71    61878 non-null int64\n",
      "feat_72    61878 non-null int64\n",
      "feat_73    61878 non-null int64\n",
      "feat_74    61878 non-null int64\n",
      "feat_75    61878 non-null int64\n",
      "feat_76    61878 non-null int64\n",
      "feat_77    61878 non-null int64\n",
      "feat_78    61878 non-null int64\n",
      "feat_79    61878 non-null int64\n",
      "feat_80    61878 non-null int64\n",
      "feat_81    61878 non-null int64\n",
      "feat_82    61878 non-null int64\n",
      "feat_83    61878 non-null int64\n",
      "feat_84    61878 non-null int64\n",
      "feat_85    61878 non-null int64\n",
      "feat_86    61878 non-null int64\n",
      "feat_87    61878 non-null int64\n",
      "feat_88    61878 non-null int64\n",
      "feat_89    61878 non-null int64\n",
      "feat_90    61878 non-null int64\n",
      "feat_91    61878 non-null int64\n",
      "feat_92    61878 non-null int64\n",
      "feat_93    61878 non-null int64\n",
      "target     61878 non-null object\n",
      "dtypes: int64(94), object(1)\n",
      "memory usage: 44.8+ MB\n"
     ]
    }
   ],
   "source": [
    "# Your code here\n",
    "df.info()"
   ]
  },
  {
   "cell_type": "code",
   "execution_count": 4,
   "metadata": {},
   "outputs": [
    {
     "data": {
      "text/plain": [
       "array([[<matplotlib.axes._subplots.AxesSubplot object at 0x7f037a91d940>,\n",
       "        <matplotlib.axes._subplots.AxesSubplot object at 0x7f0378380e48>,\n",
       "        <matplotlib.axes._subplots.AxesSubplot object at 0x7f03783352e8>,\n",
       "        <matplotlib.axes._subplots.AxesSubplot object at 0x7f037835b978>,\n",
       "        <matplotlib.axes._subplots.AxesSubplot object at 0x7f037830d048>,\n",
       "        <matplotlib.axes._subplots.AxesSubplot object at 0x7f037830d080>,\n",
       "        <matplotlib.axes._subplots.AxesSubplot object at 0x7f03782d9d30>,\n",
       "        <matplotlib.axes._subplots.AxesSubplot object at 0x7f037828c400>,\n",
       "        <matplotlib.axes._subplots.AxesSubplot object at 0x7f0378231a90>,\n",
       "        <matplotlib.axes._subplots.AxesSubplot object at 0x7f0378263160>],\n",
       "       [<matplotlib.axes._subplots.AxesSubplot object at 0x7f037820a7f0>,\n",
       "        <matplotlib.axes._subplots.AxesSubplot object at 0x7f03781b5e80>,\n",
       "        <matplotlib.axes._subplots.AxesSubplot object at 0x7f03781e4550>,\n",
       "        <matplotlib.axes._subplots.AxesSubplot object at 0x7f037818abe0>,\n",
       "        <matplotlib.axes._subplots.AxesSubplot object at 0x7f037813e2b0>,\n",
       "        <matplotlib.axes._subplots.AxesSubplot object at 0x7f0378164940>,\n",
       "        <matplotlib.axes._subplots.AxesSubplot object at 0x7f037810cfd0>,\n",
       "        <matplotlib.axes._subplots.AxesSubplot object at 0x7f03780be6a0>,\n",
       "        <matplotlib.axes._subplots.AxesSubplot object at 0x7f03780e7d30>,\n",
       "        <matplotlib.axes._subplots.AxesSubplot object at 0x7f0378095400>],\n",
       "       [<matplotlib.axes._subplots.AxesSubplot object at 0x7f037803ea90>,\n",
       "        <matplotlib.axes._subplots.AxesSubplot object at 0x7f0377fee160>,\n",
       "        <matplotlib.axes._subplots.AxesSubplot object at 0x7f03780157f0>,\n",
       "        <matplotlib.axes._subplots.AxesSubplot object at 0x7f0377fbee80>,\n",
       "        <matplotlib.axes._subplots.AxesSubplot object at 0x7f0377f70550>,\n",
       "        <matplotlib.axes._subplots.AxesSubplot object at 0x7f0377f96be0>,\n",
       "        <matplotlib.axes._subplots.AxesSubplot object at 0x7f0377f482b0>,\n",
       "        <matplotlib.axes._subplots.AxesSubplot object at 0x7f0377eed940>,\n",
       "        <matplotlib.axes._subplots.AxesSubplot object at 0x7f0377f18fd0>,\n",
       "        <matplotlib.axes._subplots.AxesSubplot object at 0x7f0377ec96a0>],\n",
       "       [<matplotlib.axes._subplots.AxesSubplot object at 0x7f0377e71d30>,\n",
       "        <matplotlib.axes._subplots.AxesSubplot object at 0x7f0377ea2400>,\n",
       "        <matplotlib.axes._subplots.AxesSubplot object at 0x7f0377e49a90>,\n",
       "        <matplotlib.axes._subplots.AxesSubplot object at 0x7f0377dfc160>,\n",
       "        <matplotlib.axes._subplots.AxesSubplot object at 0x7f0377e217f0>,\n",
       "        <matplotlib.axes._subplots.AxesSubplot object at 0x7f0377dcae80>,\n",
       "        <matplotlib.axes._subplots.AxesSubplot object at 0x7f0377d7a550>,\n",
       "        <matplotlib.axes._subplots.AxesSubplot object at 0x7f0377da4be0>,\n",
       "        <matplotlib.axes._subplots.AxesSubplot object at 0x7f0377d542b0>,\n",
       "        <matplotlib.axes._subplots.AxesSubplot object at 0x7f0377cfa940>],\n",
       "       [<matplotlib.axes._subplots.AxesSubplot object at 0x7f0377d26fd0>,\n",
       "        <matplotlib.axes._subplots.AxesSubplot object at 0x7f0377cd46a0>,\n",
       "        <matplotlib.axes._subplots.AxesSubplot object at 0x7f0377c7dd30>,\n",
       "        <matplotlib.axes._subplots.AxesSubplot object at 0x7f0377c2f400>,\n",
       "        <matplotlib.axes._subplots.AxesSubplot object at 0x7f0377c55a90>,\n",
       "        <matplotlib.axes._subplots.AxesSubplot object at 0x7f0374f6f160>,\n",
       "        <matplotlib.axes._subplots.AxesSubplot object at 0x7f0374f157f0>,\n",
       "        <matplotlib.axes._subplots.AxesSubplot object at 0x7f0374f3ee80>,\n",
       "        <matplotlib.axes._subplots.AxesSubplot object at 0x7f0374eef550>,\n",
       "        <matplotlib.axes._subplots.AxesSubplot object at 0x7f0374e96be0>],\n",
       "       [<matplotlib.axes._subplots.AxesSubplot object at 0x7f0374ec72b0>,\n",
       "        <matplotlib.axes._subplots.AxesSubplot object at 0x7f0374e6f940>,\n",
       "        <matplotlib.axes._subplots.AxesSubplot object at 0x7f0374e17fd0>,\n",
       "        <matplotlib.axes._subplots.AxesSubplot object at 0x7f0374e466a0>,\n",
       "        <matplotlib.axes._subplots.AxesSubplot object at 0x7f0374defd30>,\n",
       "        <matplotlib.axes._subplots.AxesSubplot object at 0x7f0374da1400>,\n",
       "        <matplotlib.axes._subplots.AxesSubplot object at 0x7f0374dc7a90>,\n",
       "        <matplotlib.axes._subplots.AxesSubplot object at 0x7f0374d7a160>,\n",
       "        <matplotlib.axes._subplots.AxesSubplot object at 0x7f0374d207f0>,\n",
       "        <matplotlib.axes._subplots.AxesSubplot object at 0x7f0374d49e80>],\n",
       "       [<matplotlib.axes._subplots.AxesSubplot object at 0x7f0374cf9550>,\n",
       "        <matplotlib.axes._subplots.AxesSubplot object at 0x7f0374ca1be0>,\n",
       "        <matplotlib.axes._subplots.AxesSubplot object at 0x7f0374cd22b0>,\n",
       "        <matplotlib.axes._subplots.AxesSubplot object at 0x7f0374c7a940>,\n",
       "        <matplotlib.axes._subplots.AxesSubplot object at 0x7f0374c22fd0>,\n",
       "        <matplotlib.axes._subplots.AxesSubplot object at 0x7f0374bd36a0>,\n",
       "        <matplotlib.axes._subplots.AxesSubplot object at 0x7f0374bf9d30>,\n",
       "        <matplotlib.axes._subplots.AxesSubplot object at 0x7f0374bab400>,\n",
       "        <matplotlib.axes._subplots.AxesSubplot object at 0x7f0374b54a90>,\n",
       "        <matplotlib.axes._subplots.AxesSubplot object at 0x7f0374b86160>],\n",
       "       [<matplotlib.axes._subplots.AxesSubplot object at 0x7f0374b2b7f0>,\n",
       "        <matplotlib.axes._subplots.AxesSubplot object at 0x7f0374ad4e80>,\n",
       "        <matplotlib.axes._subplots.AxesSubplot object at 0x7f0374b04550>,\n",
       "        <matplotlib.axes._subplots.AxesSubplot object at 0x7f0374aadbe0>,\n",
       "        <matplotlib.axes._subplots.AxesSubplot object at 0x7f0374a5d2b0>,\n",
       "        <matplotlib.axes._subplots.AxesSubplot object at 0x7f0374a85940>,\n",
       "        <matplotlib.axes._subplots.AxesSubplot object at 0x7f0374a2efd0>,\n",
       "        <matplotlib.axes._subplots.AxesSubplot object at 0x7f03749de6a0>,\n",
       "        <matplotlib.axes._subplots.AxesSubplot object at 0x7f0374a05d30>,\n",
       "        <matplotlib.axes._subplots.AxesSubplot object at 0x7f03749b7400>],\n",
       "       [<matplotlib.axes._subplots.AxesSubplot object at 0x7f037495ea90>,\n",
       "        <matplotlib.axes._subplots.AxesSubplot object at 0x7f0374991160>,\n",
       "        <matplotlib.axes._subplots.AxesSubplot object at 0x7f03749387f0>,\n",
       "        <matplotlib.axes._subplots.AxesSubplot object at 0x7f03748e1e80>,\n",
       "        <matplotlib.axes._subplots.AxesSubplot object at 0x7f0374911550>,\n",
       "        <matplotlib.axes._subplots.AxesSubplot object at 0x7f03748b6be0>,\n",
       "        <matplotlib.axes._subplots.AxesSubplot object at 0x7f037486a2b0>,\n",
       "        <matplotlib.axes._subplots.AxesSubplot object at 0x7f0374890940>,\n",
       "        <matplotlib.axes._subplots.AxesSubplot object at 0x7f0374839fd0>,\n",
       "        <matplotlib.axes._subplots.AxesSubplot object at 0x7f03747e86a0>],\n",
       "       [<matplotlib.axes._subplots.AxesSubplot object at 0x7f0374812d30>,\n",
       "        <matplotlib.axes._subplots.AxesSubplot object at 0x7f03747c2400>,\n",
       "        <matplotlib.axes._subplots.AxesSubplot object at 0x7f0374769a90>,\n",
       "        <matplotlib.axes._subplots.AxesSubplot object at 0x7f037471c160>,\n",
       "        <matplotlib.axes._subplots.AxesSubplot object at 0x7f03747447f0>,\n",
       "        <matplotlib.axes._subplots.AxesSubplot object at 0x7f03746ece80>,\n",
       "        <matplotlib.axes._subplots.AxesSubplot object at 0x7f037469c550>,\n",
       "        <matplotlib.axes._subplots.AxesSubplot object at 0x7f03746c6be0>,\n",
       "        <matplotlib.axes._subplots.AxesSubplot object at 0x7f03746752b0>,\n",
       "        <matplotlib.axes._subplots.AxesSubplot object at 0x7f037461d940>]],\n",
       "      dtype=object)"
      ]
     },
     "execution_count": 4,
     "metadata": {},
     "output_type": "execute_result"
    }
   ],
   "source": [
    "# Your code here\n",
    "feat = df.loc[:, 'feat_1':'feat_93']\n",
    "feat.hist(figsize=(30, 20))"
   ]
  },
  {
   "cell_type": "code",
   "execution_count": 5,
   "metadata": {},
   "outputs": [],
   "source": [
    "# Your code here"
   ]
  },
  {
   "cell_type": "code",
   "execution_count": 6,
   "metadata": {},
   "outputs": [],
   "source": [
    "# Your code here"
   ]
  },
  {
   "cell_type": "markdown",
   "metadata": {},
   "source": [
    "If you look at all the histograms, you can tell that a lot of the data are zero-inflated, so most of the variables contain mostly zeros and then some higher values here and there. No normality, but for most machine learning techniques this is not an issue. "
   ]
  },
  {
   "cell_type": "code",
   "execution_count": 7,
   "metadata": {},
   "outputs": [
    {
     "data": {
      "text/plain": [
       "<matplotlib.axes._subplots.AxesSubplot at 0x7f036b231908>"
      ]
     },
     "execution_count": 7,
     "metadata": {},
     "output_type": "execute_result"
    },
    {
     "data": {
      "image/png": "[encoded data removed]",
      "text/plain": [
       "<Figure size 720x720 with 1 Axes>"
      ]
     },
     "metadata": {
      "needs_background": "light"
     },
     "output_type": "display_data"
    }
   ],
   "source": [
    "# Your code here\n",
    "feat.boxplot(figsize=(10, 10))"
   ]
  },
  {
   "cell_type": "markdown",
   "metadata": {},
   "source": [
    "Because the data is zero-inflated the boxplots look as shown above. Because there are this many zeroes, most values above zero will seem to be outliers. The safe decision for this data is to not delete any outliers and see what happens. With many 0s, sparse data is available and high values may be super informative. More-over, without having any intuitive meaning for each of the features, we don't know if a value of ~260 is actually an outlier."
   ]
  },
  {
   "cell_type": "code",
   "execution_count": 8,
   "metadata": {},
   "outputs": [],
   "source": [
    "# Your code here"
   ]
  },
  {
   "cell_type": "markdown",
   "metadata": {},
   "source": [
    "## Feature engineering and selection with PCA"
   ]
  },
  {
   "cell_type": "markdown",
   "metadata": {},
   "source": [
    "Have a look at the correlation structure of your features using a heatmap."
   ]
  },
  {
   "cell_type": "code",
   "execution_count": 9,
   "metadata": {},
   "outputs": [
    {
     "data": {
      "text/plain": [
       "<matplotlib.axes._subplots.AxesSubplot at 0x7f036ffed128>"
      ]
     },
     "execution_count": 9,
     "metadata": {},
     "output_type": "execute_result"
    },
    {
     "data": {
      "image/png": "[encoded data removed]",
      "text/plain": [
       "<Figure size 432x288 with 2 Axes>"
      ]
     },
     "metadata": {
      "needs_background": "light"
     },
     "output_type": "display_data"
    }
   ],
   "source": [
    "# Your code here\n",
    "import seaborn as sns\n",
    "feat = df.loc[:, 'feat_1': 'feat_93']\n",
    "\n",
    "sns.heatmap(feat.corr(), center=0)"
   ]
  },
  {
   "cell_type": "markdown",
   "metadata": {},
   "source": [
    "Use PCA to downscale your features. Use PCA to select a number of features in a way that you still keep 80% of your explained variance."
   ]
  },
  {
   "cell_type": "code",
   "execution_count": 10,
   "metadata": {},
   "outputs": [
    {
     "name": "stdout",
     "output_type": "stream",
     "text": [
      "0.7275461611094152\n",
      "0.8885963358038402\n",
      "0.9598404986336077\n",
      "0.8086912421043452\n"
     ]
    }
   ],
   "source": [
    "# Your code here\n",
    "import numpy as np\n",
    "from sklearn.decomposition import PCA\n",
    "pca_1 = PCA(n_components=20)\n",
    "pca_2 = PCA(n_components=40)\n",
    "pca_3 = PCA(n_components=60)\n",
    "\n",
    "PC = pca_1.fit_transform(feat)\n",
    "PC = pca_2.fit_transform(feat)\n",
    "PC = pca_3.fit_transform(feat)\n",
    "\n",
    "\n",
    "print(np.sum(pca_1.explained_variance_ratio_))\n",
    "print(np.sum(pca_2.explained_variance_ratio_))\n",
    "print(np.sum(pca_3.explained_variance_ratio_))\n",
    "\n",
    "\n",
    "pca = PCA(n_components=28)\n",
    "PC = pca.fit_transform(feat)\n",
    "print(sum(pca.explained_variance_ratio_))"
   ]
  },
  {
   "cell_type": "code",
   "execution_count": 11,
   "metadata": {},
   "outputs": [
    {
     "data": {
      "text/plain": [
       "<matplotlib.axes._subplots.AxesSubplot at 0x7f036de99710>"
      ]
     },
     "execution_count": 11,
     "metadata": {},
     "output_type": "execute_result"
    },
    {
     "data": {
      "image/png": "[encoded data removed]",
      "text/plain": [
       "<Figure size 432x288 with 2 Axes>"
      ]
     },
     "metadata": {
      "needs_background": "light"
     },
     "output_type": "display_data"
    }
   ],
   "source": [
    "# Your code here\n",
    "sns.heatmap(pd.DataFrame(PC).corr(), center=0)"
   ]
  },
  {
   "cell_type": "markdown",
   "metadata": {},
   "source": [
    "## Create a train test split with a test size of 40%"
   ]
  },
  {
   "cell_type": "markdown",
   "metadata": {},
   "source": [
    "This is a relatively big training set. Feel free to make it smaller (down to ~20%), but for an initial run you can try smaller training sets so the computation time is more manageable.\n",
    "\n",
    "For now, simply use the original data and not the principal components. We looked at the PC's first to get a sense of our correlation structure, and to see how we can downsize our data without losing too much information. In what's next, you'll make PCA part of the pipeline!!"
   ]
  },
  {
   "cell_type": "code",
   "execution_count": 12,
   "metadata": {},
   "outputs": [],
   "source": [
    "# Your code here\n",
    "X = df.loc[:, 'feat_1':'feat_93']\n",
    "y = df['target']"
   ]
  },
  {
   "cell_type": "code",
   "execution_count": 13,
   "metadata": {},
   "outputs": [],
   "source": [
    "# Your code here\n",
    "from sklearn.model_selection import train_test_split\n",
    "X_train, X_test, y_train, y_test = train_test_split(X, y, test_size=40, random_state=42)"
   ]
  },
  {
   "cell_type": "markdown",
   "metadata": {},
   "source": [
    "## Create a baseline model"
   ]
  },
  {
   "cell_type": "markdown",
   "metadata": {},
   "source": [
    "Create your baseline model *in a pipeline setting*. In the pipeline\n",
    "- Your first step will be to scale your features down to the number of features that ensure you keep just 80% of your explained variance (which we saw before)\n",
    "- Your second step will be the building a basic logistic regression model.\n",
    "\n",
    "Make sure to fit the model using the training set, and test the result by obtaining the accuracy using the test set."
   ]
  },
  {
   "cell_type": "code",
   "execution_count": 14,
   "metadata": {},
   "outputs": [],
   "source": [
    "from sklearn.pipeline import Pipeline\n",
    "from sklearn.linear_model import LogisticRegression"
   ]
  },
  {
   "cell_type": "code",
   "execution_count": 15,
   "metadata": {},
   "outputs": [],
   "source": [
    "# Your code here\n",
    "pipe_1r =  Pipeline([('pca', PCA(n_components=27, random_state=123)),\n",
    "                     ('clf', LogisticRegression(random_state=123))])"
   ]
  },
  {
   "cell_type": "code",
   "execution_count": 16,
   "metadata": {},
   "outputs": [
    {
     "name": "stderr",
     "output_type": "stream",
     "text": [
      "/home/matthew/anaconda3/lib/python3.7/site-packages/sklearn/linear_model/logistic.py:433: FutureWarning: Default solver will be changed to 'lbfgs' in 0.22. Specify a solver to silence this warning.\n",
      "  FutureWarning)\n",
      "/home/matthew/anaconda3/lib/python3.7/site-packages/sklearn/linear_model/logistic.py:460: FutureWarning: Default multi_class will be changed to 'auto' in 0.22. Specify the multi_class option to silence this warning.\n",
      "  \"this warning.\", FutureWarning)\n"
     ]
    },
    {
     "name": "stdout",
     "output_type": "stream",
     "text": [
      "0.6\n"
     ]
    }
   ],
   "source": [
    "# Your code here\n",
    "pipe_1r.fit(X_train, y_train)\n",
    "print(pipe_1r.score(X_test, y_test))"
   ]
  },
  {
   "cell_type": "code",
   "execution_count": 17,
   "metadata": {},
   "outputs": [
    {
     "data": {
      "text/plain": [
       "0.6"
      ]
     },
     "execution_count": 17,
     "metadata": {},
     "output_type": "execute_result"
    }
   ],
   "source": [
    "np.sum(pipe_1r.predict(X_test)==y_test)/len(y_test)"
   ]
  },
  {
   "cell_type": "markdown",
   "metadata": {},
   "source": [
    "## Create a pipeline consisting of a linear SVM, a simple Decision Tree and a simple Random Forest Classifier"
   ]
  },
  {
   "cell_type": "markdown",
   "metadata": {},
   "source": [
    "Repeat the above, but now create three different pipelines:\n",
    "- One for a standard linear SCM\n",
    "- One for a default decision tree\n",
    "- One for a RandomForestClassifier"
   ]
  },
  {
   "cell_type": "code",
   "execution_count": 18,
   "metadata": {},
   "outputs": [],
   "source": [
    "# Your code here\n",
    "from sklearn import svm\n",
    "from sklearn.ensemble import RandomForestClassifier\n",
    "from sklearn import tree"
   ]
  },
  {
   "cell_type": "code",
   "execution_count": 19,
   "metadata": {},
   "outputs": [],
   "source": [
    "pipe_svm =  Pipeline([('pca', PCA(n_components=27)),\n",
    "                     ('clf', svm.SVC(random_state=123))])\n",
    "                      \n",
    "pipe_tree =  Pipeline([('pca', PCA(n_components=27)),\n",
    "                     ('clf', tree.DecisionTreeClassifier(random_state=123))])\n",
    "\n",
    "pipe_rf =  Pipeline([('pca', PCA(n_components=27)),\n",
    "                     ('clf', RandomForestClassifier(random_state=123))])\n",
    "                     \n",
    "                     "
   ]
  },
  {
   "cell_type": "code",
   "execution_count": null,
   "metadata": {},
   "outputs": [
    {
     "name": "stderr",
     "output_type": "stream",
     "text": [
      "/home/matthew/anaconda3/lib/python3.7/site-packages/sklearn/svm/base.py:196: FutureWarning: The default value of gamma will change from 'auto' to 'scale' in version 0.22 to account better for unscaled features. Set gamma explicitly to 'auto' or 'scale' to avoid this warning.\n",
      "  \"avoid this warning.\", FutureWarning)\n"
     ]
    }
   ],
   "source": [
    "pipe_svm.fit(X_train, y_train)"
   ]
  },
  {
   "cell_type": "code",
   "execution_count": null,
   "metadata": {},
   "outputs": [],
   "source": [
    "print(pipe_svm.score(X_test, y_test))"
   ]
  },
  {
   "cell_type": "code",
   "execution_count": null,
   "metadata": {},
   "outputs": [],
   "source": [
    "pipe_tree.fit(X_train, y_train)"
   ]
  },
  {
   "cell_type": "code",
   "execution_count": null,
   "metadata": {},
   "outputs": [],
   "source": [
    "print(pipe_tree.score(X_test, y_test))"
   ]
  },
  {
   "cell_type": "code",
   "execution_count": null,
   "metadata": {},
   "outputs": [],
   "source": [
    "pipe_rf.fit(X_train, y_train)"
   ]
  },
  {
   "cell_type": "code",
   "execution_count": null,
   "metadata": {},
   "outputs": [],
   "source": [
    "print(pipe_rf.score(X_test, y_test))"
   ]
  },
  {
   "cell_type": "code",
   "execution_count": null,
   "metadata": {},
   "outputs": [],
   "source": [
    "pipelines = [pipe_svm, pipe_tree, pipe_rf]\n",
    "pipeline_name = ['Support Vector Machine','Decision Tree','Random Forest']\n",
    "\n",
    "for pipe in pipelines:\n",
    "    print(pipe)\n",
    "    pipe.fit(X_train, y_train)\n",
    "    \n",
    "for index, val in enumerate(pipelines):\n",
    "    print('%s pipeline test accuracy: %.3f' % (pipeline_names[index], val.score(X_test, y_test)))"
   ]
  },
  {
   "cell_type": "markdown",
   "metadata": {},
   "source": [
    "## Pipeline with grid search"
   ]
  },
  {
   "cell_type": "markdown",
   "metadata": {},
   "source": [
    "Construct 3 pipelines with grid search\n",
    "- one for support vector machines - make sure your grid isn't too big. You'll see it takes quite a while to fit SVMs with non-linear kernel functions!\n",
    "- one for random forests - try to have around 40 different models\n",
    "- one for the adaboost algorithm. "
   ]
  },
  {
   "cell_type": "markdown",
   "metadata": {},
   "source": [
    "### SVM pipeline with grid search"
   ]
  },
  {
   "cell_type": "code",
   "execution_count": null,
   "metadata": {},
   "outputs": [],
   "source": [
    "# Your code here\n",
    "param_grid_svm = [\n",
    "  {'clf__C': [0.1, 1, 10]  , 'clf__kernel': ['linear']},\n",
    "  {'clf__C': [1, 10], 'clf__gamma': [0.001, 0.01], 'clf__kernel': ['rbf']},\n",
    " ]\n"
   ]
  },
  {
   "cell_type": "code",
   "execution_count": null,
   "metadata": {},
   "outputs": [],
   "source": [
    "# Your code here\n",
    "from sklearn.model_selection import GridSearchCV\n",
    "\n",
    "gs_svm = GridSearchCV(estimator=pipe_svm,\n",
    "                    param_grid=param_grid_svm,\n",
    "                    scoring='accuracy',\n",
    "                    cv=3, verbose=2, return_train_score=True)"
   ]
  },
  {
   "cell_type": "markdown",
   "metadata": {},
   "source": [
    "Use your grid search object along with `.cv_results` to get the full result overview"
   ]
  },
  {
   "cell_type": "code",
   "execution_count": null,
   "metadata": {},
   "outputs": [],
   "source": [
    "# # Your code here\n",
    "# gs_svm.fit(X_train, y_train)"
   ]
  },
  {
   "cell_type": "code",
   "execution_count": null,
   "metadata": {},
   "outputs": [],
   "source": [
    "print('Best accuracy: %.3f' % gs_svm.best_score_)"
   ]
  },
  {
   "cell_type": "code",
   "execution_count": null,
   "metadata": {},
   "outputs": [],
   "source": [
    "print('\\nBest params:\\n', gs_svm.best_params_)"
   ]
  },
  {
   "cell_type": "markdown",
   "metadata": {},
   "source": [
    "### Random Forest pipeline with grid search"
   ]
  },
  {
   "cell_type": "code",
   "execution_count": null,
   "metadata": {},
   "outputs": [],
   "source": [
    "# Your code herepipe_rf = Pipeline([('pca', PCA(n_components=27)),\n",
    "            ('clf', RandomForestClassifier(random_state = 123))])\n",
    "\n",
    "# Set grid search params\n",
    "param_grid_forest = [ \n",
    "  {'clf__n_estimators': [120],\n",
    "   'clf__criterion': ['entropy', 'gini'], \n",
    "   'clf__max_depth': [4, 5, 6],  \n",
    "   'clf__min_samples_leaf':[0.05 ,0.1, 0.2],  \n",
    "   'clf__min_samples_split':[0.05 ,0.1, 0.2]\n",
    "  }\n",
    "]\n",
    "\n",
    "# Construct grid search\n",
    "gs_rf = GridSearchCV(estimator=pipe_rf,\n",
    "            param_grid=param_grid_forest,\n",
    "            scoring='accuracy',\n",
    "            cv=3, verbose=2, return_train_score = True)\n",
    "\n",
    "# Fit using grid search\n",
    "gs_rf.fit(X_train, y_train)\n",
    "\n",
    "# Best accuracy\n",
    "print('Best accuracy: %.3f' % gs_rf.best_score_)\n",
    "\n",
    "# Best params\n",
    "print('\\nBest params:\\n', gs_rf.best_params_)"
   ]
  },
  {
   "cell_type": "code",
   "execution_count": null,
   "metadata": {},
   "outputs": [],
   "source": [
    "# Your code here"
   ]
  },
  {
   "cell_type": "markdown",
   "metadata": {},
   "source": [
    "## Adaboost"
   ]
  },
  {
   "cell_type": "code",
   "execution_count": null,
   "metadata": {},
   "outputs": [],
   "source": [
    "# Your code here"
   ]
  },
  {
   "cell_type": "markdown",
   "metadata": {},
   "source": [
    "## Note\n",
    "\n",
    "Note that this solution is only one of many options. The results in the Random Forest and Adaboost models show that there is a lot of improvement possible tuning the hyperparameters further, so make sure to explore this yourself!"
   ]
  },
  {
   "cell_type": "markdown",
   "metadata": {},
   "source": [
    "## Summary \n",
    "\n",
    "Great! You now got a lot of practice in. What algorithm would you choose and why?"
   ]
  }
 ],
 "metadata": {
  "kernelspec": {
   "display_name": "Python 3",
   "language": "python",
   "name": "python3"
  },
  "language_info": {
   "codemirror_mode": {
    "name": "ipython",
    "version": 3
   },
   "file_extension": ".py",
   "mimetype": "text/x-python",
   "name": "python",
   "nbconvert_exporter": "python",
   "pygments_lexer": "ipython3",
   "version": "3.7.2"
  }
 },
 "nbformat": 4,
 "nbformat_minor": 2
}
